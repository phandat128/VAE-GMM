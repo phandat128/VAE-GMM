{
  "nbformat": 4,
  "nbformat_minor": 0,
  "metadata": {
    "colab": {
      "provenance": [],
      "gpuType": "T4",
      "authorship_tag": "ABX9TyPOtkTKUfKJIgNJ06ag/1yS",
      "include_colab_link": true
    },
    "kernelspec": {
      "name": "python3",
      "display_name": "Python 3"
    },
    "language_info": {
      "name": "python"
    },
    "accelerator": "GPU",
    "gpuClass": "standard"
  },
  "cells": [
    {
      "cell_type": "markdown",
      "metadata": {
        "id": "view-in-github",
        "colab_type": "text"
      },
      "source": [
        "<a href=\"https://colab.research.google.com/github/phandat128/VAE-GMM/blob/main/VAE_MNIST.ipynb\" target=\"_parent\"><img src=\"https://colab.research.google.com/assets/colab-badge.svg\" alt=\"Open In Colab\"/></a>"
      ]
    },
    {
      "cell_type": "code",
      "execution_count": null,
      "metadata": {
        "id": "FmJFQ9I0iFFN"
      },
      "outputs": [],
      "source": [
        "import tensorflow as tf\n",
        "import keras\n",
        "from keras.layers import Conv2D, Conv2DTranspose, Input, Flatten, Dense, Lambda, Reshape\n",
        "from keras.models import Model\n",
        "from keras.datasets import mnist\n",
        "from keras import backend as K\n",
        "import numpy as np\n",
        "import matplotlib.pyplot as plt"
      ]
    },
    {
      "cell_type": "code",
      "source": [
        "(x_train, y_train), (x_test, y_test) = mnist.load_data()"
      ],
      "metadata": {
        "id": "zRIWC655iRg2"
      },
      "execution_count": null,
      "outputs": []
    },
    {
      "cell_type": "code",
      "source": [
        "# Normalize x since image is from 0 to 255\n",
        "x_train = x_train.astype('float32')\n",
        "x_test = x_test.astype('float32')\n",
        "x_train = x_train / 255\n",
        "x_test = x_test / 255"
      ],
      "metadata": {
        "id": "ULQXFoODjfXB"
      },
      "execution_count": null,
      "outputs": []
    },
    {
      "cell_type": "code",
      "source": [
        "img_width = x_train.shape[1]\n",
        "img_height = x_train.shape[2]\n",
        "num_channels = 1 # gray image"
      ],
      "metadata": {
        "id": "T_DnWuynkN5z"
      },
      "execution_count": null,
      "outputs": []
    },
    {
      "cell_type": "code",
      "source": [
        "x_train = x_train.reshape(x_train.shape[0], img_height, img_width, num_channels)\n",
        "x_test = x_test.reshape(x_test.shape[0], img_height, img_width, num_channels)\n",
        "input_shape = (img_height, img_width, num_channels)"
      ],
      "metadata": {
        "id": "BaqTH2pCk0n1"
      },
      "execution_count": null,
      "outputs": []
    },
    {
      "cell_type": "code",
      "source": [
        "plt.figure(1)\n",
        "plt.subplot(221)\n",
        "plt.imshow(x_train[43][:,:,0])\n",
        "plt.subplot(222)\n",
        "plt.imshow(x_train[423][:,:,0])\n",
        "plt.subplot(223)\n",
        "plt.imshow(x_train[435][:,:,0])\n",
        "plt.subplot(224)\n",
        "plt.imshow(x_train[9438][:,:,0])"
      ],
      "metadata": {
        "colab": {
          "base_uri": "https://localhost:8080/",
          "height": 449
        },
        "id": "LLkU13dalreb",
        "outputId": "b9523e50-6dd6-418e-d131-6253ff4af286"
      },
      "execution_count": null,
      "outputs": [
        {
          "output_type": "execute_result",
          "data": {
            "text/plain": [
              "<matplotlib.image.AxesImage at 0x7fc388ec8310>"
            ]
          },
          "metadata": {},
          "execution_count": 6
        },
        {
          "output_type": "display_data",
          "data": {
            "text/plain": [
              "<Figure size 640x480 with 4 Axes>"
            ],
            "image/png": "[encoded data removed]"
          },
          "metadata": {}
        }
      ]
    },
    {
      "cell_type": "code",
      "source": [
        "latent_dim = 2 # dimesion of sample z"
      ],
      "metadata": {
        "id": "X5K75HlKnBM6"
      },
      "execution_count": null,
      "outputs": []
    },
    {
      "cell_type": "code",
      "source": [
        "input_img = Input(shape=input_shape, name='encode_input')\n",
        "x = Conv2D(32, 3, padding='same', activation='relu')(input_img)\n",
        "x = Conv2D(64, 3, padding='same', activation='relu', strides=(2,2))(x)\n",
        "x = Conv2D(64, 3, padding='same', activation='relu')(x)\n",
        "x = Conv2D(64, 3, padding='same', activation='relu')(x)\n",
        "\n",
        "conv_shape = K.int_shape(x) #shape of conv to be provided to decoder\n",
        "conv_shape"
      ],
      "metadata": {
        "colab": {
          "base_uri": "https://localhost:8080/"
        },
        "id": "5yc05skGo7GN",
        "outputId": "f8f24237-5542-49a7-c2f0-75f1757526a5"
      },
      "execution_count": null,
      "outputs": [
        {
          "output_type": "execute_result",
          "data": {
            "text/plain": [
              "(None, 14, 14, 64)"
            ]
          },
          "metadata": {},
          "execution_count": 8
        }
      ]
    },
    {
      "cell_type": "code",
      "source": [
        "x = Flatten()(x)\n",
        "x = Dense(32, activation='relu')(x)"
      ],
      "metadata": {
        "id": "cu8Wdku2qXZV"
      },
      "execution_count": null,
      "outputs": []
    },
    {
      "cell_type": "code",
      "source": [
        "z_mean = Dense(latent_dim, name='latent_mean')(x)\n",
        "z_log_var = Dense(latent_dim, name='latent_log_var')(x)"
      ],
      "metadata": {
        "id": "IF5ARotlqx7T"
      },
      "execution_count": null,
      "outputs": []
    },
    {
      "cell_type": "markdown",
      "source": [
        "###Reparameterization trick"
      ],
      "metadata": {
        "id": "N4QggnJfrR9J"
      }
    },
    {
      "cell_type": "markdown",
      "source": [
        "$z = \\mu + \\sigma \\odot \\epsilon$ with $\\epsilon \\sim N(0,1)$"
      ],
      "metadata": {
        "id": "6UvEEBlJrxME"
      }
    },
    {
      "cell_type": "code",
      "source": [
        "def sample_z(args):\n",
        "  z_mean, z_log_var = args\n",
        "  eps = K.random_normal(shape=(K.shape(z_mean)[0], K.shape(z_mean)[1]))\n",
        "  return z_mean + K.exp(z_log_var * 0.5) * eps"
      ],
      "metadata": {
        "id": "0ug175warD7m"
      },
      "execution_count": null,
      "outputs": []
    },
    {
      "cell_type": "markdown",
      "source": [
        "###Next"
      ],
      "metadata": {
        "id": "9KjFtAZ8uxd2"
      }
    },
    {
      "cell_type": "code",
      "source": [
        "z = Lambda(sample_z, output_shape=(latent_dim, ), name='z')([z_mean, z_log_var])"
      ],
      "metadata": {
        "id": "k0g6QBPi7I2N"
      },
      "execution_count": null,
      "outputs": []
    },
    {
      "cell_type": "code",
      "source": [
        "encoder = Model(input_img, [z_mean, z_log_var, z], name='encoder')\n",
        "encoder.summary()"
      ],
      "metadata": {
        "colab": {
          "base_uri": "https://localhost:8080/"
        },
        "id": "W4TuB0c9vXmB",
        "outputId": "7d5700c2-817e-4929-b2c8-355bfa8e2523"
      },
      "execution_count": null,
      "outputs": [
        {
          "output_type": "stream",
          "name": "stdout",
          "text": [
            "Model: \"encoder\"\n",
            "__________________________________________________________________________________________________\n",
            " Layer (type)                   Output Shape         Param #     Connected to                     \n",
            "==================================================================================================\n",
            " encode_input (InputLayer)      [(None, 28, 28, 1)]  0           []                               \n",
            "                                                                                                  \n",
            " conv2d (Conv2D)                (None, 28, 28, 32)   320         ['encode_input[0][0]']           \n",
            "                                                                                                  \n",
            " conv2d_1 (Conv2D)              (None, 14, 14, 64)   18496       ['conv2d[0][0]']                 \n",
            "                                                                                                  \n",
            " conv2d_2 (Conv2D)              (None, 14, 14, 64)   36928       ['conv2d_1[0][0]']               \n",
            "                                                                                                  \n",
            " conv2d_3 (Conv2D)              (None, 14, 14, 64)   36928       ['conv2d_2[0][0]']               \n",
            "                                                                                                  \n",
            " flatten (Flatten)              (None, 12544)        0           ['conv2d_3[0][0]']               \n",
            "                                                                                                  \n",
            " dense (Dense)                  (None, 32)           401440      ['flatten[0][0]']                \n",
            "                                                                                                  \n",
            " latent_mean (Dense)            (None, 2)            66          ['dense[0][0]']                  \n",
            "                                                                                                  \n",
            " latent_log_var (Dense)         (None, 2)            66          ['dense[0][0]']                  \n",
            "                                                                                                  \n",
            " z (Lambda)                     (None, 2)            0           ['latent_mean[0][0]',            \n",
            "                                                                  'latent_log_var[0][0]']         \n",
            "                                                                                                  \n",
            "==================================================================================================\n",
            "Total params: 494,244\n",
            "Trainable params: 494,244\n",
            "Non-trainable params: 0\n",
            "__________________________________________________________________________________________________\n"
          ]
        }
      ]
    },
    {
      "cell_type": "code",
      "source": [
        "decoder_input = Input(shape=(latent_dim, ), name='decoder_input')\n",
        "x = Dense(conv_shape[1] * conv_shape[2] * conv_shape[3], activation='relu')(decoder_input)\n",
        "x = Reshape((conv_shape[1], conv_shape[2], conv_shape[3]))(x)"
      ],
      "metadata": {
        "id": "kGrWYphYvuY5"
      },
      "execution_count": null,
      "outputs": []
    },
    {
      "cell_type": "code",
      "source": [
        "#upscale image\n",
        "x = Conv2DTranspose(32, 3, padding='same', activation='relu', strides=(2,2))(x)\n",
        "x = Conv2DTranspose(num_channels, 3, padding='same', activation='sigmoid', name='decoder_ouput')(x)"
      ],
      "metadata": {
        "id": "t5cc7tLryPrl"
      },
      "execution_count": null,
      "outputs": []
    },
    {
      "cell_type": "code",
      "source": [
        "decoder = Model(decoder_input, x, name='decoder')\n",
        "decoder.summary()"
      ],
      "metadata": {
        "colab": {
          "base_uri": "https://localhost:8080/"
        },
        "id": "DiasBm4d0Nj9",
        "outputId": "a33160bb-eb3b-4d2a-be16-41b0caa90116"
      },
      "execution_count": null,
      "outputs": [
        {
          "output_type": "stream",
          "name": "stdout",
          "text": [
            "Model: \"decoder\"\n",
            "_________________________________________________________________\n",
            " Layer (type)                Output Shape              Param #   \n",
            "=================================================================\n",
            " decoder_input (InputLayer)  [(None, 2)]               0         \n",
            "                                                                 \n",
            " dense_1 (Dense)             (None, 12544)             37632     \n",
            "                                                                 \n",
            " reshape (Reshape)           (None, 14, 14, 64)        0         \n",
            "                                                                 \n",
            " conv2d_transpose (Conv2DTra  (None, 28, 28, 32)       18464     \n",
            " nspose)                                                         \n",
            "                                                                 \n",
            " decoder_ouput (Conv2DTransp  (None, 28, 28, 1)        289       \n",
            " ose)                                                            \n",
            "                                                                 \n",
            "=================================================================\n",
            "Total params: 56,385\n",
            "Trainable params: 56,385\n",
            "Non-trainable params: 0\n",
            "_________________________________________________________________\n"
          ]
        }
      ]
    },
    {
      "cell_type": "code",
      "source": [
        "class VAE(keras.Model):\n",
        "  def __init__(self, **kwargs):\n",
        "    super(VAE, self).__init__(**kwargs)\n",
        "\n",
        "    self.encoder = encoder\n",
        "    self.decoder = decoder\n",
        "\n",
        "    self.total_loss_tracker = tf.keras.metrics.Mean(name=\"total_loss\")\n",
        "    self.kl_loss_tracker = tf.keras.metrics.Mean(name=\"KL_loss\")\n",
        "    self.recons_loss_tracker = tf.keras.metrics.Mean(name=\"reconstruction_loss\")\n",
        "  \n",
        "  def call(self, inputs):\n",
        "    x = inputs\n",
        "    _, _, z = self.encoder(x)\n",
        "    return self.decoder(z)\n",
        "  \n",
        "  def compute_loss(self, x=None, y=None, y_pred=None, sample_weight=None):\n",
        "    z_mean, z_log_var, z = self.encoder(x)\n",
        "    kl_loss = -0.5 * (1 + z_log_var - tf.square(z_mean) - tf.exp(z_log_var))\n",
        "    kl_loss = tf.reduce_mean(tf.reduce_sum(kl_loss, axis=1))\n",
        "\n",
        "    x_flatten = K.flatten(x)\n",
        "    z_decoded = K.flatten(self.decoder(z))\n",
        "    recons_loss = tf.keras.metrics.binary_crossentropy(x_flatten, z_decoded)\n",
        "    total_loss = kl_loss + recons_loss\n",
        "\n",
        "    return total_loss, kl_loss, recons_loss\n",
        "\n",
        "  def train_step(self, data):\n",
        "    x = data\n",
        "    with tf.GradientTape() as tape:\n",
        "      total_loss, kl_loss, recons_loss = self.compute_loss(x)\n",
        "\n",
        "    # Compute gradients\n",
        "    trainable_vars = self.trainable_variables\n",
        "    gradients = tape.gradient(total_loss, trainable_vars)\n",
        "\n",
        "    # Update weights\n",
        "    self.optimizer.apply_gradients(zip(gradients, trainable_vars))\n",
        "\n",
        "    \n",
        "    self.total_loss_tracker.update_state(total_loss)\n",
        "    self.kl_loss_tracker.update_state(kl_loss)\n",
        "    self.recons_loss_tracker.update_state(recons_loss)\n",
        "\n",
        "    return {\"total_loss\": self.total_loss_tracker.result(),\n",
        "            \"reconstruction_loss\": self.recons_loss_tracker.result(),\n",
        "            \"kl_loss\": self.kl_loss_tracker.result(),}\n",
        "\n",
        "  @property\n",
        "  def metrics(self):\n",
        "    return [self.total_loss_tracker,\n",
        "            self.recons_loss_tracker,\n",
        "            self.kl_loss_tracker,]\n"
      ],
      "metadata": {
        "id": "aHWgKbuE9ELW"
      },
      "execution_count": null,
      "outputs": []
    },
    {
      "cell_type": "code",
      "source": [
        "vae_model = VAE()"
      ],
      "metadata": {
        "id": "DxvpXQ1M9EBv"
      },
      "execution_count": null,
      "outputs": []
    },
    {
      "cell_type": "code",
      "source": [
        "vae_model.compile(optimizer='adam')"
      ],
      "metadata": {
        "id": "X5Sqpevy-2Xv"
      },
      "execution_count": null,
      "outputs": []
    },
    {
      "cell_type": "code",
      "source": [
        "hist = vae_model.fit(x_train, None,\n",
        "                     batch_size=128,\n",
        "                     epochs=3)"
      ],
      "metadata": {
        "colab": {
          "base_uri": "https://localhost:8080/"
        },
        "id": "COGCQP8N6EDI",
        "outputId": "89d67fa1-dc25-4ebd-d9b3-133c53cf1bd0"
      },
      "execution_count": null,
      "outputs": [
        {
          "output_type": "stream",
          "name": "stdout",
          "text": [
            "Epoch 1/3\n",
            "469/469 [==============================] - 33s 12ms/step - total_loss: 0.2903 - reconstruction_loss: 0.2902 - kl_loss: 3.4566e-04\n",
            "Epoch 2/3\n",
            "469/469 [==============================] - 6s 12ms/step - total_loss: 0.2635 - reconstruction_loss: 0.2635 - kl_loss: 4.6319e-08\n",
            "Epoch 3/3\n",
            "469/469 [==============================] - 6s 12ms/step - total_loss: 0.2632 - reconstruction_loss: 0.2632 - kl_loss: 4.1458e-08\n"
          ]
        }
      ]
    },
    {
      "cell_type": "code",
      "source": [
        "mu, _, _ = vae_model.encoder.predict(x_test)\n",
        "#Plot dim1 and dim2 for mu\n",
        "plt.figure(figsize=(10, 10))\n",
        "plt.scatter(mu[:, 0], mu[:, 1], c=y_test, cmap='brg')\n",
        "plt.xlabel('dim 1')\n",
        "plt.ylabel('dim 2')\n",
        "plt.colorbar()\n",
        "plt.show()"
      ],
      "metadata": {
        "id": "LosJUEC2grkA"
      },
      "execution_count": null,
      "outputs": []
    },
    {
      "cell_type": "code",
      "source": [
        "sample_vector = np.array([[0, 0.5]])\n",
        "decoded_example = decoder.predict(sample_vector)\n",
        "decoded_example_reshaped = decoded_example.reshape(img_width, img_height)\n",
        "plt.imshow(decoded_example_reshaped)"
      ],
      "metadata": {
        "colab": {
          "base_uri": "https://localhost:8080/",
          "height": 465
        },
        "id": "4kwAxIl4wijX",
        "outputId": "b1589f64-4d1e-4248-85c8-80c1ae37c3e7"
      },
      "execution_count": null,
      "outputs": [
        {
          "output_type": "stream",
          "name": "stdout",
          "text": [
            "1/1 [==============================] - 0s 17ms/step\n"
          ]
        },
        {
          "output_type": "execute_result",
          "data": {
            "text/plain": [
              "<matplotlib.image.AxesImage at 0x7fc2e8364970>"
            ]
          },
          "metadata": {},
          "execution_count": 26
        },
        {
          "output_type": "display_data",
          "data": {
            "text/plain": [
              "<Figure size 640x480 with 1 Axes>"
            ],
            "image/png": "[encoded data removed]"
          },
          "metadata": {}
        }
      ]
    },
    {
      "cell_type": "code",
      "source": [],
      "metadata": {
        "id": "PXvGV9TpwjE-"
      },
      "execution_count": null,
      "outputs": []
    }
  ]
}